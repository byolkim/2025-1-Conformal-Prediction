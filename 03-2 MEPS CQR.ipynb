{
 "cells": [
  {
   "cell_type": "markdown",
   "metadata": {},
   "source": [
    "This tutorial has been modified from meps-cqr.ipynb from conformal-prediction (https://github.com/aangelopoulos/conformal-prediction). It is based on Romano et al. (2019) (https://proceedings.neurips.cc/paper/2019/hash/5103c3584b063c431bd1268e9b5e76fb-Abstract.html).\n",
    "\n",
    "# Improved conditional coverage with *conformalized quantile regression* (CQR) using the Medical Expenditure Panel Survey (MEPS) data\n",
    "\n",
    "In our demo, we looked at a regression example with a continuous output. To illustrate the distribution-free nature of the conformal prediction coverage guarantee, we used a base model and a nonconformity score that was obviously ill-suited to the data. In this tutorial, we will see that the same conformal prediction principle applied to more clever choices of the base model and the nonconformity score leads to a procedure that leads to prediction sets that tend to be more adaptive to different levels of noise while, of course, maintaining the same distribution-free coverage guarantee. This procedure is called *conformalized quantile regression* (CQR).\n",
    "\n",
    "To explain the idea behind the procedure, suppose we have access to the conditional distribution of $Y \\mid X = x$. Then, we could construct a $100 \\times (1-\\alpha)\\%$ prediction interval using the *conditional quantile functions* as $[t_{\\alpha/2}(x), t_{1-\\alpha/2}(x)]$. Of course, in practice, we have to estimate these functions using the data. This can be done via any quantile regression methods, which are, you guessed it, methods for estimating $t_\\gamma$, $\\gamma \\in [0,1]$. Let's suppose we already have some pre-trained $\\hat{t}_{\\alpha/2}, \\hat{t}_{1-\\alpha/2}(x)$ from running such methods.\n",
    "\n",
    "Now, these methods typically yield consistent estimators under suitable conditions, but $\\hat{t}_{\\gamma} \\neq t_\\gamma$ and hence, the coverage of the interval $[\\hat{t}_{\\alpha/2}(x), \\hat{t}_{1-\\alpha/2}(x)]$ is off from the target of $1-\\alpha$ in finite samples even when those conditions are met. So, what do we do? We \"conformalize\" this interval by constructing a new nonconformity score that measures how far each point deviates from the quantile regression output and adjust the interval accordingly."
   ]
  },
  {
   "cell_type": "code",
   "execution_count": 1,
   "metadata": {},
   "outputs": [
    {
     "name": "stdout",
     "output_type": "stream",
     "text": [
      "Requirement already satisfied: gdown in /Library/Frameworks/Python.framework/Versions/3.12/lib/python3.12/site-packages (5.2.0)\n",
      "Requirement already satisfied: beautifulsoup4 in /Library/Frameworks/Python.framework/Versions/3.12/lib/python3.12/site-packages (from gdown) (4.12.2)\n",
      "Requirement already satisfied: filelock in /Library/Frameworks/Python.framework/Versions/3.12/lib/python3.12/site-packages (from gdown) (3.17.0)\n",
      "Requirement already satisfied: requests[socks] in /Library/Frameworks/Python.framework/Versions/3.12/lib/python3.12/site-packages (from gdown) (2.31.0)\n",
      "Requirement already satisfied: tqdm in /Library/Frameworks/Python.framework/Versions/3.12/lib/python3.12/site-packages (from gdown) (4.67.1)\n",
      "Requirement already satisfied: soupsieve>1.2 in /Library/Frameworks/Python.framework/Versions/3.12/lib/python3.12/site-packages (from beautifulsoup4->gdown) (2.5)\n",
      "Requirement already satisfied: charset-normalizer<4,>=2 in /Library/Frameworks/Python.framework/Versions/3.12/lib/python3.12/site-packages (from requests[socks]->gdown) (3.3.2)\n",
      "Requirement already satisfied: idna<4,>=2.5 in /Library/Frameworks/Python.framework/Versions/3.12/lib/python3.12/site-packages (from requests[socks]->gdown) (3.6)\n",
      "Requirement already satisfied: urllib3<3,>=1.21.1 in /Library/Frameworks/Python.framework/Versions/3.12/lib/python3.12/site-packages (from requests[socks]->gdown) (2.1.0)\n",
      "Requirement already satisfied: certifi>=2017.4.17 in /Library/Frameworks/Python.framework/Versions/3.12/lib/python3.12/site-packages (from requests[socks]->gdown) (2023.11.17)\n",
      "Requirement already satisfied: PySocks!=1.5.7,>=1.5.6 in /Library/Frameworks/Python.framework/Versions/3.12/lib/python3.12/site-packages (from requests[socks]->gdown) (1.7.1)\n"
     ]
    }
   ],
   "source": [
    "import os\n",
    "import json\n",
    "import numpy as np\n",
    "import matplotlib.pyplot as plt\n",
    "!pip install -U --no-cache-dir gdown --pre"
   ]
  },
  {
   "cell_type": "markdown",
   "metadata": {},
   "source": [
    "## Loading the MEPS data\n",
    "\n",
    "We'll use the Medical Expenditure Panel Survey (MEPS) data, which contains information about healthcare expenditures. Our goal is to predict $Y$ medical expenses (\\\\$) based on $X$ various patient characteristics.\n",
    "\n",
    "The data includes:\n",
    "- X: Features related to patient demographics and health status\n",
    "- Y: Medical expenses (our target variable)\n",
    "- L: Lower quantile estimates from a pre-trained quantile regression model\n",
    "- U: Upper quantile estimates from the same model"
   ]
  },
  {
   "cell_type": "code",
   "execution_count": 2,
   "metadata": {},
   "outputs": [],
   "source": [
    "# Load cached data\n",
    "if not os.path.exists('../data'):\n",
    "    os.system('gdown 1h7S6N_Rx7gdfO3ZunzErZy6H7620EbZK -O ../data.tar.gz')\n",
    "    os.system('tar -xf ../data.tar.gz -C ../')\n",
    "    os.system('rm ../data.tar.gz')\n",
    "    \n",
    "data = np.load('../data/meps/meps-gbr.npz')\n",
    "X, Y, L, U = data['X'], data['y'], data['lower'], data['upper']"
   ]
  },
  {
   "cell_type": "code",
   "execution_count": 3,
   "metadata": {},
   "outputs": [
    {
     "name": "stdout",
     "output_type": "stream",
     "text": [
      "X shape: (7893, 139)\n",
      "Y shape: (7893,)\n",
      "L shape: (7893,)\n",
      "U shape: (7893,)\n"
     ]
    },
    {
     "data": {
      "image/png": "[encoded data removed]",
      "text/plain": [
       "<Figure size 1000x600 with 1 Axes>"
      ]
     },
     "metadata": {},
     "output_type": "display_data"
    }
   ],
   "source": [
    "# Let's look at the data dimensions\n",
    "print(f\"X shape: {X.shape}\")\n",
    "print(f\"Y shape: {Y.shape}\")\n",
    "print(f\"L shape: {L.shape}\")\n",
    "print(f\"U shape: {U.shape}\")\n",
    "\n",
    "# Plot the distribution of medical expenses\n",
    "plt.figure(figsize=(10, 6))\n",
    "plt.hist(Y, bins=50, alpha=0.7)\n",
    "plt.title('Distribution of Medical Expenses')\n",
    "plt.xlabel('Expenses ($)')\n",
    "plt.ylabel('Frequency')\n",
    "plt.show()"
   ]
  },
  {
   "cell_type": "markdown",
   "metadata": {},
   "source": [
    "## Setting up the experiment\n",
    "\n",
    "We need to:\n",
    "1. Define the desired coverage level $1-α$\n",
    "2. Split our data into calibration and test sets"
   ]
  },
  {
   "cell_type": "code",
   "execution_count": 4,
   "metadata": {},
   "outputs": [],
   "source": [
    "# EXERCISE 1: Set the target miscoverage rate alpha and calibration set size m\n",
    "alpha = 0.1 # 1-alpha is the desired coverage\n",
    "m = 1000 # number of calibration points"
   ]
  },
  {
   "cell_type": "code",
   "execution_count": 5,
   "metadata": {},
   "outputs": [],
   "source": [
    "# EXERCISE 2: Split the data into calibration and test sets\n",
    "# Create a boolean mask for selecting calibration points\n",
    "idx = np.array([1] * m + [0] * (Y.shape[0]-m)) > 0 # creates a 50000-vector of 1000 T's followed by F's\n",
    "np.random.shuffle(idx) # shuffle to randomly select calibration points\n",
    "\n",
    "# Use the mask to split the data\n",
    "Y_cal, Y_te = Y[idx], Y[~idx]\n",
    "L_cal, L_te = L[idx], L[~idx]\n",
    "U_cal, U_te = U[idx], U[~idx]"
   ]
  },
  {
   "cell_type": "markdown",
   "metadata": {},
   "source": [
    "## Conformalized quantile regression (CQR)\n",
    "\n",
    "The CQR nonconformity score for an observation $(x,y)$ is:\n",
    "\n",
    "$$s(x,y) = \\max\\left\\{\\hat{t}_{\\alpha/2}(x)-y, y-\\hat{t}_{1-\\alpha/2}(x)\\right\\}$$\n",
    "\n",
    "**Think.** What is this nonconformity score capturing?"
   ]
  },
  {
   "cell_type": "code",
   "execution_count": 6,
   "metadata": {},
   "outputs": [],
   "source": [
    "# EXERCISE 3: Calculate nonconformity scores for the calibration set\n",
    "S_cal = np.maximum(L_cal-Y_cal, Y_cal-U_cal)\n",
    "\n",
    "# Sort the scores\n",
    "S_cal = np.sort(S_cal)\n",
    "\n",
    "# Calculate the conformity threshold (qhat)\n",
    "# This is the (1-alpha) quantile of the nonconformity scores\n",
    "qhat = S_cal[int(np.ceil((1-alpha)*(m+1)))-1]\n",
    "# qhat = np.quantile(S_cal, np.ceil((1-alpha)*(m+1)/m, interpolation='higher')"
   ]
  },
  {
   "cell_type": "markdown",
   "metadata": {},
   "source": [
    "## Constructing conformalized prediction intervals\n",
    "\n",
    "Now, we can construct our conformalized prediction intervals for the test set. The interval is:\n",
    "\n",
    "$$\\hat C(x) = [\\hat{t}_{\\alpha/2}(x) - \\hat{q}, \\hat{t}_{1-\\alpha/2}(x) + \\hat{q}],$$\n",
    "\n",
    "where $\\hat{q}$ is our conformity threshold (qhat)."
   ]
  },
  {
   "cell_type": "code",
   "execution_count": 7,
   "metadata": {},
   "outputs": [],
   "source": [
    "# EXERCISE 4: Construct conformalized prediction intervals\n",
    "Chat = [L_te-qhat, U_te+qhat]"
   ]
  },
  {
   "cell_type": "markdown",
   "metadata": {},
   "source": [
    "## Evaluating coverage\n",
    "\n",
    "Let's check if our conformalized prediction intervals achieve the desired coverage. We'll also compare them with the original (non-conformalized) intervals $[\\hat{t}_{\\alpha/2}(x), \\hat{t}_{1-\\alpha/2}(x)]$."
   ]
  },
  {
   "cell_type": "code",
   "execution_count": 8,
   "metadata": {},
   "outputs": [
    {
     "name": "stdout",
     "output_type": "stream",
     "text": [
      "The empirical coverage before conformalization is: 0.7355287973306253\n",
      "The empirical coverage after conformalization is: 0.9315247352386479\n"
     ]
    }
   ],
   "source": [
    "# EXERCISE 5: Calculate and compare empirical coverage\n",
    "# Coverage before conformalization\n",
    "empirical_coverage0 = ((L_te <= Y_te) & (Y_te <= U_te)).mean()\n",
    "print(f\"The empirical coverage before conformalization is: {empirical_coverage0}\")\n",
    "\n",
    "# Coverage after conformalization\n",
    "empirical_coverage = ((L_te-qhat <= Y_te) & (Y_te <= U_te+qhat)).mean()\n",
    "print(f\"The empirical coverage after conformalization is: {empirical_coverage}\")"
   ]
  },
  {
   "cell_type": "markdown",
   "metadata": {},
   "source": [
    "## Examining conditional coverage\n",
    "\n",
    "One major advantage of conformalized prediction is improved conditional coverage across different subgroups. Let's check if our method achieves uniform coverage across different cancer diagnosis categories."
   ]
  },
  {
   "cell_type": "code",
   "execution_count": 9,
   "metadata": {},
   "outputs": [
    {
     "name": "stdout",
     "output_type": "stream",
     "text": [
      "Number of observations per cancer diagnosis category:\n",
      "Category 1: 2760\n",
      "Category 2: 1924\n",
      "Category 3: 1718\n",
      "Category 4: 394\n",
      "Category 5: 93\n"
     ]
    }
   ],
   "source": [
    "# The following lines appear to\n",
    "#   1. Re-code different cancer diagnosis variables as 1-Yes and 0-No,\n",
    "#   2. Aggregate the number of different cancer diagnoses.\n",
    "# See https://meps.ahrq.gov/mepsweb/data_stats/download_data_files_codebook.jsp?PUFId=H233&varName=CANCERDX\n",
    "X_cancer = X[~idx, 40:45]\n",
    "for col in range(X_cancer.shape[1]):\n",
    "    one_val = X_cancer[:, col].max()\n",
    "    X_cancer[:, col] = (X_cancer[:, col] == one_val).astype(int)\n",
    "cancer_dx = X_cancer.dot(np.arange(5)+1).astype(int)\n",
    "\n",
    "# Count observations in each cancer diagnosis category\n",
    "counts = [(cancer_dx == dx).sum() for dx in np.arange(5)+1]\n",
    "print(\"Number of observations per cancer diagnosis category:\")\n",
    "for i, count in enumerate(counts):\n",
    "    print(f\"Category {i+1}: {count}\")\n",
    "# Let's take a look at how many observations are in each level\n",
    "#[(cancer_dx == dx).sum() for dx in np.arange(5)+1]"
   ]
  },
  {
   "cell_type": "code",
   "execution_count": 10,
   "metadata": {},
   "outputs": [
    {
     "data": {
      "image/png": "[encoded data removed]",
      "text/plain": [
       "<Figure size 1000x600 with 1 Axes>"
      ]
     },
     "metadata": {},
     "output_type": "display_data"
    }
   ],
   "source": [
    "# EXERCISE 6: Calculate stratified coverage for each cancer diagnosis category\n",
    "# Coverage before conformalization\n",
    "stratified_coverage0 = [((L_te[cancer_dx == dx] <= Y_te[cancer_dx == dx])\n",
    "                         & (Y_te[cancer_dx == dx] <= U_te[cancer_dx == dx])).mean() for dx in np.arange(5)+1]\n",
    "\n",
    "# Coverage after conformalization\n",
    "stratified_coverage = [((L_te[cancer_dx == dx]-qhat <= Y_te[cancer_dx == dx])\n",
    "                        & (Y_te[cancer_dx == dx] <= U_te[cancer_dx == dx]+qhat)).mean() for dx in np.arange(5)+1]\n",
    "\n",
    "# Plot the results\n",
    "plt.figure(figsize=(10, 6))\n",
    "plt.plot(np.arange(5)+1, stratified_coverage0, \"o\", label=\"Pre-conformalization\")\n",
    "plt.plot(np.arange(5)+1, stratified_coverage, \"o\", label=\"Post-conformalization\")\n",
    "plt.hlines(1-alpha, 0.5, 5.5, 'r', label=\"Target coverage\")\n",
    "plt.xlim(0.75, 5.25)\n",
    "plt.ylim(0.6, 1.0)\n",
    "plt.xlabel(\"Cancer Diagnosis Category\")\n",
    "plt.ylabel(\"Empirical Coverage\")\n",
    "plt.title(\"Coverage by Cancer Diagnosis Category\")\n",
    "plt.legend()\n",
    "plt.grid(True, alpha=0.3)\n",
    "plt.show()"
   ]
  },
  {
   "cell_type": "markdown",
   "metadata": {},
   "source": [
    "## Key takeaways\n",
    "\n",
    "1. **The Coverage Problem**: Traditional quantile regression methods produce intervals that often don't achieve their target coverage in finite samples.\n",
    "\n",
    "2. **Conformal Prediction Solution**: By applying conformal prediction techniques to quantile regression outputs, we can guarantee the desired coverage level (1-α) without making distributional assumptions.\n",
    "\n",
    "3. **The CQR Procedure**:\n",
    "   - Start with estimated conditional quantiles from any quantile regression method\n",
    "   - Calculate nonconformity scores on a calibration set\n",
    "   - Adjust the original interval based on these scores\n",
    "\n",
    "4. **Empirical Results**:\n",
    "   - Pre-conformalization intervals achieved ~73% coverage when targeting 90%\n",
    "   - Post-conformalization intervals achieved ~93% coverage, meeting our target\n",
    "   - Coverage was more uniform across different subgroups after conformalization\n",
    "\n",
    "5. **Advantages**:\n",
    "   - Distribution-free coverage guarantees\n",
    "   - Can be applied on top of any existing quantile regression method\n",
    "   - Improves conditional coverage across different subpopulations\n",
    "\n",
    "6. **Limitations**:\n",
    "   - Requires a separate calibration set\n",
    "   - May produce wider intervals than uncalibrated methods"
   ]
  },
  {
   "cell_type": "markdown",
   "metadata": {},
   "source": [
    "## Discussion questions\n",
    "\n",
    "1. How does the conformalization process improve coverage compared to the original quantile regression intervals?\n",
    "\n",
    "2. How would you expect the width of the prediction intervals to change after conformalization? Why?\n",
    "\n",
    "3. What might explain any differences in coverage across the different cancer diagnosis categories?\n",
    "\n",
    "4. How might the choice of the base quantile regression model affect the final conformalized intervals?\n",
    "\n",
    "5. How would the choice of α affect our results? What tradeoffs are involved in selecting different values?\n",
    "\n",
    "6. How should we decide the size of the calibration set? What happens if it's too small or too large?\n",
    "\n",
    "7. How does CQR compare to other uncertainty quantification methods like bootstrap or Bayesian approaches?\n",
    "\n",
    "8. In what real-world scenarios would guaranteed coverage be particularly important when predicting medical expenses?\n",
    "\n",
    "9. How might conformal prediction help ensure fair treatment across different demographic groups?\n",
    "\n",
    "10. How would you explain the concept of conformalized prediction intervals to non-technical stakeholders?"
   ]
  }
 ],
 "metadata": {
  "kernelspec": {
   "display_name": "Python 3 (ipykernel)",
   "language": "python",
   "name": "python3"
  },
  "language_info": {
   "codemirror_mode": {
    "name": "ipython",
    "version": 3
   },
   "file_extension": ".py",
   "mimetype": "text/x-python",
   "name": "python",
   "nbconvert_exporter": "python",
   "pygments_lexer": "ipython3",
   "version": "3.12.0"
  }
 },
 "nbformat": 4,
 "nbformat_minor": 4
}
