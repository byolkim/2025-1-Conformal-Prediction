{
 "cells": [
  {
   "cell_type": "markdown",
   "metadata": {},
   "source": [
    "This worksheet was created with the help of Claude 3.7 based on the notebook \"A primer on predictive inference.\"\n",
    "\n",
    "# Worksheet: Conformal prediction with Galton's height data\n",
    "\n",
    "In this exercise, you will implement conformal prediction using Galton's data on the heights of fathers and their children. The goal is to gain hands-on experience with the conformal prediction methodology and verify its finite-sample validity by computing the empirical coverage.\n",
    "\n",
    "## Background\n",
    "\n",
    "Conformal prediction is a technique that wraps around a point prediction method to provide prediction intervals with valid coverage guarantees. Unlike traditional prediction intervals in linear regression, which rely on distributional assumptions, conformal prediction intervals have valid coverage *without* those assumptions.\n",
    "\n",
    "The key idea is to use a calibration dataset to determine how large the prediction intervals should be. By computing nonconformity scores on the calibration data, we can establish a quantile that ensures the desired coverage level."
   ]
  },
  {
   "cell_type": "code",
   "execution_count": null,
   "metadata": {},
   "outputs": [],
   "source": [
    "# Import necessary libraries\n",
    "import pandas as pd\n",
    "import numpy as np\n",
    "import matplotlib.pyplot as plt\n",
    "import statsmodels.api as sm\n",
    "from scipy.stats import t\n",
    "import seaborn as sns"
   ]
  },
  {
   "cell_type": "markdown",
   "metadata": {},
   "source": [
    "## Part 1: Load and Explore the Data\n",
    "\n",
    "First, let's load Galton's dataset and perform some exploratory data analysis."
   ]
  },
  {
   "cell_type": "code",
   "execution_count": null,
   "metadata": {},
   "outputs": [],
   "source": [
    "# Load the data\n",
    "df = pd.read_csv(\"Galton.txt\", sep=\"\\t\")\n",
    "\n",
    "# Display the first few rows\n",
    "print(\"First 5 rows of the dataset:\")\n",
    "print(df.head())\n",
    "\n",
    "# Summary statistics\n",
    "print(\"\\n Summary statistics:\")\n",
    "print(df.describe())\n",
    "\n",
    "# Extract the relevant columns\n",
    "X = df[\"Father\"].astype(float)  # Father's height\n",
    "Y = df[\"Height\"].astype(float)  # Child's height\n",
    "\n",
    "# Find the total number of observations\n",
    "n = X.shape[0]\n",
    "print(f\"\\n Total number of observations: {n}\")"
   ]
  },
  {
   "cell_type": "code",
   "execution_count": null,
   "metadata": {},
   "outputs": [],
   "source": [
    "# Visualize the relationship between father's and child's height\n",
    "plt.figure(figsize=(10, 6))\n",
    "plt.scatter(X, Y, alpha=0.5)\n",
    "plt.xlabel(\"Father's Height (inches)\")\n",
    "plt.ylabel(\"Child's Height (inches)\")\n",
    "plt.title(\"Relationship between Father's and Child's Heights\")\n",
    "plt.grid(True, alpha=0.3)\n",
    "plt.show()"
   ]
  },
  {
   "cell_type": "markdown",
   "metadata": {},
   "source": [
    "## Part 2: Split the Data\n",
    "\n",
    "For conformal prediction, we need to split our data into three parts:\n",
    "1. Training set: Used to fit the model\n",
    "2. Calibration set: Used to compute the nonconformity scores and determine the quantile\n",
    "3. Test set: Used to evaluate the prediction intervals\n",
    "\n",
    "Let's split the data into these three parts."
   ]
  },
  {
   "cell_type": "code",
   "execution_count": null,
   "metadata": {},
   "outputs": [],
   "source": [
    "# Split the data into training, calibration, and test sets (50%, 25%, 25%)\n",
    "idx = np.random.permutation(n)\n",
    "n_train = int(np.floor(0.5 * n))\n",
    "n_calib = int(np.floor(0.25 * n))\n",
    "\n",
    "idx_train = idx[:n_train]\n",
    "idx_calib = idx[n_train:n_train + n_calib]\n",
    "idx_test = idx[n_train + n_calib:]\n",
    "\n",
    "# Create the datasets\n",
    "X_train, Y_train = X[idx_train], Y[idx_train]\n",
    "X_calib, Y_calib = X[idx_calib], Y[idx_calib]\n",
    "X_test, Y_test = X[idx_test], Y[idx_test]\n",
    "\n",
    "print(f\"Training set size: {len(X_train)}\")\n",
    "print(f\"Calibration set size: {len(X_calib)}\")\n",
    "print(f\"Test set size: {len(X_test)}\")"
   ]
  },
  {
   "cell_type": "markdown",
   "metadata": {},
   "source": [
    "## Part 3: Fit the OLS Model\n",
    "\n",
    "Now, let's fit an Ordinary Least Squares (OLS) model using the training data."
   ]
  },
  {
   "cell_type": "code",
   "execution_count": null,
   "metadata": {},
   "outputs": [],
   "source": [
    "# Add an intercept to the training features\n",
    "X_train_with_intercept = sm.add_constant(X_train)\n",
    "\n",
    "# Fit the OLS model\n",
    "ols_model = sm.OLS(Y_train, X_train_with_intercept).fit()\n",
    "\n",
    "# Print the model summary\n",
    "print(ols_model.summary())"
   ]
  },
  {
   "cell_type": "code",
   "execution_count": null,
   "metadata": {},
   "outputs": [],
   "source": [
    "# Create a range of x values for plotting\n",
    "x_range = np.linspace(X.min(), X.max(), 100)\n",
    "x_range_with_intercept = sm.add_constant(x_range)\n",
    "\n",
    "# Generate predictions\n",
    "y_pred = ols_model.predict(x_range_with_intercept)\n",
    "\n",
    "# Plot the data and fitted line\n",
    "plt.figure(figsize=(10, 6))\n",
    "plt.scatter(X_train, Y_train, alpha=0.5, label=\"Training Data\")\n",
    "plt.plot(x_range, y_pred, color=\"red\", linewidth=2, label=\"OLS Fitted Line\")\n",
    "plt.xlabel(\"Father's Height (inches)\")\n",
    "plt.ylabel(\"Child's Height (inches)\")\n",
    "plt.title(\"OLS Regression: Child's Height vs Father's Height\")\n",
    "plt.grid(True, alpha=0.3)\n",
    "plt.legend()\n",
    "plt.show()"
   ]
  },
  {
   "cell_type": "markdown",
   "metadata": {},
   "source": [
    "## Part 4: Traditional OLS Prediction Intervals\n",
    "\n",
    "Before implementing conformal prediction, let's compute the traditional OLS prediction intervals for comparison."
   ]
  },
  {
   "cell_type": "code",
   "execution_count": null,
   "metadata": {},
   "outputs": [],
   "source": [
    "# Significance level\n",
    "alpha = 0.1  # 90% prediction intervals\n",
    "\n",
    "# Generate predictions and prediction intervals for the test set\n",
    "X_test_with_intercept = sm.add_constant(X_test)\n",
    "test_predictions = ols_model.get_prediction(X_test_with_intercept).summary_frame(alpha=alpha)\n",
    "\n",
    "# Extract the predictions and intervals\n",
    "y_pred_test = test_predictions['mean']\n",
    "lower_bound = test_predictions['obs_ci_lower']\n",
    "upper_bound = test_predictions['obs_ci_upper']\n",
    "\n",
    "# Calculate the coverage\n",
    "ols_coverage = np.mean((Y_test >= lower_bound) & (Y_test <= upper_bound))\n",
    "print(f\"OLS prediction interval coverage: {ols_coverage:.4f} (target: {1-alpha:.1f})\")"
   ]
  },
  {
   "cell_type": "code",
   "execution_count": null,
   "metadata": {},
   "outputs": [],
   "source": [
    "# Visualize OLS prediction intervals\n",
    "prediction_summary = ols_model.get_prediction(x_range_with_intercept).summary_frame(alpha=alpha)\n",
    "plt.figure(figsize=(10, 6))\n",
    "plt.scatter(X_train, Y_train, alpha=0.3, label=\"Training Data\")\n",
    "plt.scatter(X_test, Y_test, alpha=0.5, color=\"green\", label=\"Test Data\")\n",
    "plt.plot(x_range, prediction_summary['mean'], color=\"red\", linewidth=2, label=\"OLS Fitted Line\")\n",
    "plt.fill_between(x_range, \n",
    "                 prediction_summary['obs_ci_lower'], \n",
    "                 prediction_summary['obs_ci_upper'], \n",
    "                 color=\"red\", alpha=0.2, label=f\"{100*(1-alpha)}% OLS Prediction Interval\")\n",
    "plt.xlabel(\"Father's Height (inches)\")\n",
    "plt.ylabel(\"Child's Height (inches)\")\n",
    "plt.title(\"OLS Prediction Intervals\")\n",
    "plt.grid(True, alpha=0.3)\n",
    "plt.legend()\n",
    "plt.show()"
   ]
  },
  {
   "cell_type": "markdown",
   "metadata": {},
   "source": [
    "## Part 5: Conformal Prediction\n",
    "\n",
    "Now, let's implement conformal prediction using the residual nonconformity score.\n",
    "\n",
    "**Task 1**: Compute the nonconformity scores for the calibration set.\n",
    "\n",
    "*Hint*: The nonconformity score is the absolute difference between the observed value and the predicted value."
   ]
  },
  {
   "cell_type": "code",
   "execution_count": null,
   "metadata": {},
   "outputs": [],
   "source": [
    "# TODO: Compute predictions for the calibration set\n",
    "X_calib_with_intercept = sm.add_constant(X_calib)\n",
    "y_pred_calib = ols_model.predict(X_calib_with_intercept)\n",
    "\n",
    "# TODO: Compute nonconformity scores\n",
    "nonconformity_scores = # YOUR CODE HERE\n",
    "\n",
    "# Visualize the nonconformity scores\n",
    "plt.figure(figsize=(10, 6))\n",
    "plt.hist(nonconformity_scores, bins=20, alpha=0.7)\n",
    "plt.xlabel(\"Nonconformity Score (|Y - Ŷ|)\")\n",
    "plt.ylabel(\"Frequency\")\n",
    "plt.title(\"Distribution of Nonconformity Scores on Calibration Set\")\n",
    "plt.grid(True, alpha=0.3)\n",
    "plt.show()"
   ]
  },
  {
   "cell_type": "markdown",
   "metadata": {},
   "source": [
    "**Task 2**: Determine the quantile for the desired coverage level."
   ]
  },
  {
   "cell_type": "code",
   "execution_count": null,
   "metadata": {},
   "outputs": [],
   "source": [
    "# TODO: Compute the quantile corresponding to the desired coverage level\n",
    "# For a 90% prediction interval (alpha = 0.1), we need the ceiling of (1-alpha)*(m+1) quantile,\n",
    "# where m is the size of the calibration set\n",
    "\n",
    "m = len(X_calib)\n",
    "quantile_index = # YOUR CODE HERE\n",
    "sorted_scores = # YOUR CODE HERE\n",
    "q_hat = # YOUR CODE HERE\n",
    "\n",
    "print(f\"Conformal quantile (q_hat): {q_hat:.4f}\")"
   ]
  },
  {
   "cell_type": "markdown",
   "metadata": {},
   "source": [
    "**Task 3**: Construct conformal prediction intervals for the test set."
   ]
  },
  {
   "cell_type": "code",
   "execution_count": null,
   "metadata": {},
   "outputs": [],
   "source": [
    "# TODO: Compute conformal prediction intervals for the test set\n",
    "y_conf_pred_test = ols_model.predict(X_test_with_intercept)\n",
    "lower_bound_conf = # YOUR CODE HERE\n",
    "upper_bound_conf = # YOUR CODE HERE\n",
    "\n",
    "# Calculate the conformal coverage\n",
    "conformal_coverage = # YOUR CODE HERE\n",
    "print(f\"Conformal prediction interval coverage: {conformal_coverage:.4f} (target: {1-alpha:.1f})\")"
   ]
  },
  {
   "cell_type": "markdown",
   "metadata": {},
   "source": [
    "**Task 4**: Visualize the conformal prediction intervals and compare them with the OLS prediction intervals."
   ]
  },
  {
   "cell_type": "code",
   "execution_count": null,
   "metadata": {},
   "outputs": [],
   "source": [
    "# TODO: Generate conformal prediction intervals for the range of x values\n",
    "y_conf_pred_range = ols_model.predict(x_range_with_intercept)\n",
    "lower_bound_conf_range = # YOUR CODE HERE\n",
    "upper_bound_conf_range = # YOUR CODE HERE\n",
    "\n",
    "# Visualize both OLS and conformal prediction intervals\n",
    "plt.figure(figsize=(12, 7))\n",
    "plt.scatter(X_train, Y_train, alpha=0.3, label=\"Training Data\")\n",
    "plt.scatter(X_test, Y_test, alpha=0.5, color=\"green\", label=\"Test Data\")\n",
    "plt.plot(x_range, y_conf_pred_range, color=\"red\", linewidth=2, label=\"OLS Fitted Line\")\n",
    "\n",
    "# Plot OLS prediction intervals\n",
    "plt.fill_between(x_range, \n",
    "                 prediction_summary['obs_ci_lower'], \n",
    "                 prediction_summary['obs_ci_upper'], \n",
    "                 color=\"red\", alpha=0.2, label=f\"{100*(1-alpha)}% OLS Prediction Interval\")\n",
    "\n",
    "# Plot conformal prediction intervals\n",
    "plt.fill_between(x_range, \n",
    "                 lower_bound_conf_range, \n",
    "                 upper_bound_conf_range, \n",
    "                 color=\"blue\", alpha=0.2, label=f\"{100*(1-alpha)}% Conformal Prediction Interval\")\n",
    "\n",
    "plt.xlabel(\"Father's Height (inches)\")\n",
    "plt.ylabel(\"Child's Height (inches)\")\n",
    "plt.title(\"Comparison of OLS and Conformal Prediction Intervals\")\n",
    "plt.grid(True, alpha=0.3)\n",
    "plt.legend()\n",
    "plt.show()"
   ]
  },
  {
   "cell_type": "markdown",
   "metadata": {},
   "source": [
    "## Part 6: Empirical Validation of Finite-Sample Validity\n",
    "\n",
    "To verify the finite-sample validity of conformal prediction, let's perform multiple random splits of the data and compute the coverage for each split."
   ]
  },
  {
   "cell_type": "code",
   "execution_count": null,
   "metadata": {},
   "outputs": [],
   "source": [
    "# TODO: Implement a function to compute the coverage for a given random split\n",
    "def compute_coverage(X, Y, train_size=0.5, calib_size=0.25, alpha=0.1, seed=None):\n",
    "    if seed is not None:\n",
    "        np.random.seed(seed)\n",
    "    \n",
    "    # Split the data\n",
    "    n = len(X)\n",
    "    idx = np.random.permutation(n)\n",
    "    n_train = int(np.floor(train_size * n))\n",
    "    n_calib = int(np.floor(calib_size * n))\n",
    "    \n",
    "    idx_train = idx[:n_train]\n",
    "    idx_calib = idx[n_train:n_train + n_calib]\n",
    "    idx_test = idx[n_train + n_calib:]\n",
    "    \n",
    "    X_train, Y_train = X[idx_train], Y[idx_train]\n",
    "    X_calib, Y_calib = X[idx_calib], Y[idx_calib]\n",
    "    X_test, Y_test = X[idx_test], Y[idx_test]\n",
    "    \n",
    "    # Fit the OLS model\n",
    "    X_train_with_intercept = sm.add_constant(X_train)\n",
    "    model = sm.OLS(Y_train, X_train_with_intercept).fit()\n",
    "    \n",
    "    # Compute OLS prediction intervals\n",
    "    X_test_with_intercept = sm.add_constant(X_test)\n",
    "    test_predictions = model.get_prediction(X_test_with_intercept).summary_frame(alpha=alpha)\n",
    "    ols_coverage = np.mean((Y_test >= test_predictions['obs_ci_lower']) & \n",
    "                           (Y_test <= test_predictions['obs_ci_upper']))\n",
    "    \n",
    "    # Compute conformal prediction intervals\n",
    "    # YOUR CODE HERE\n",
    "    X_calib_with_intercept = sm.add_constant(X_calib)\n",
    "    y_pred_calib = model.predict(X_calib_with_intercept)\n",
    "    nonconformity_scores = # YOUR CODE HERE\n",
    "    \n",
    "    m = len(X_calib)\n",
    "    quantile_index = # YOUR CODE HERE\n",
    "    sorted_scores = # YOUR CODE HERE\n",
    "    q_hat = # YOUR CODE HERE\n",
    "    \n",
    "    y_pred_test = model.predict(X_test_with_intercept)\n",
    "    lower_bound_conf = # YOUR CODE HERE\n",
    "    upper_bound_conf = # YOUR CODE HERE\n",
    "    conformal_coverage = # YOUR CODE HERE\n",
    "    \n",
    "    return ols_coverage, conformal_coverage"
   ]
  },
  {
   "cell_type": "code",
   "execution_count": null,
   "metadata": {},
   "outputs": [],
   "source": [
    "# Perform multiple random splits and compute coverage\n",
    "n_splits = 100\n",
    "ols_coverages = []\n",
    "conformal_coverages = []\n",
    "\n",
    "for i in range(n_splits):\n",
    "    ols_cov, conf_cov = compute_coverage(X, Y, seed=i)\n",
    "    ols_coverages.append(ols_cov)\n",
    "    conformal_coverages.append(conf_cov)\n",
    "    \n",
    "print(f\"Average OLS coverage: {np.mean(ols_coverages):.4f} (std: {np.std(ols_coverages):.4f})\")\n",
    "print(f\"Average conformal coverage: {np.mean(conformal_coverages):.4f} (std: {np.std(conformal_coverages):.4f})\")\n",
    "print(f\"Target coverage: {1-alpha:.1f}\")"
   ]
  },
  {
   "cell_type": "code",
   "execution_count": null,
   "metadata": {},
   "outputs": [],
   "source": [
    "# Visualize the distribution of coverages\n",
    "plt.figure(figsize=(12, 6))\n",
    "\n",
    "plt.subplot(1, 2, 1)\n",
    "plt.hist(ols_coverages, bins=20, alpha=0.7, color='red')\n",
    "plt.axvline(1-alpha, color='black', linestyle='dashed', linewidth=2, label=f\"Target ({1-alpha:.1f})\")\n",
    "plt.axvline(np.mean(ols_coverages), color='blue', linestyle='solid', linewidth=2, label=f\"Mean ({np.mean(ols_coverages):.4f})\")\n",
    "plt.xlabel(\"Coverage\")\n",
    "plt.ylabel(\"Frequency\")\n",
    "plt.title(\"OLS Prediction Interval Coverage\")\n",
    "plt.legend()\n",
    "plt.grid(True, alpha=0.3)\n",
    "\n",
    "plt.subplot(1, 2, 2)\n",
    "plt.hist(conformal_coverages, bins=20, alpha=0.7, color='blue')\n",
    "plt.axvline(1-alpha, color='black', linestyle='dashed', linewidth=2, label=f\"Target ({1-alpha:.1f})\")\n",
    "plt.axvline(np.mean(conformal_coverages), color='red', linestyle='solid', linewidth=2, label=f\"Mean ({np.mean(conformal_coverages):.4f})\")\n",
    "plt.xlabel(\"Coverage\")\n",
    "plt.ylabel(\"Frequency\")\n",
    "plt.title(\"Conformal Prediction Interval Coverage\")\n",
    "plt.legend()\n",
    "plt.grid(True, alpha=0.3)\n",
    "\n",
    "plt.tight_layout()\n",
    "plt.show()"
   ]
  },
  {
   "cell_type": "markdown",
   "metadata": {},
   "source": [
    "## Part 7: Discussion Questions\n",
    "\n",
    "1. How do the OLS and conformal prediction intervals compare in terms of coverage?\n",
    "2. Are the conformal prediction intervals wider or narrower than the OLS intervals? Why?\n",
    "3. What are the key assumptions of OLS prediction intervals? How does conformal prediction differ in terms of assumptions?\n",
    "4. How might you modify the nonconformity score to get potentially narrower prediction intervals for this data?\n",
    "5. Would you expect the same coverage guarantee if the relationship between fathers' and children's heights was non-linear? Explain.\n",
    "\n",
    "## Bonus Task: Exploring Different Nonconformity Scores\n",
    "\n",
    "The basic nonconformity score we used was $s(x, y) = |y - \\hat{\\mu}(x)|$. Can you think of and implement a different nonconformity score? For example, you might consider normalized residuals or studentized residuals. How do these affect the resulting prediction intervals?"
   ]
  }
 ],
 "metadata": {
  "kernelspec": {
   "display_name": "Python 3 (ipykernel)",
   "language": "python",
   "name": "python3"
  },
  "language_info": {
   "codemirror_mode": {
    "name": "ipython",
    "version": 3
   },
   "file_extension": ".py",
   "mimetype": "text/x-python",
   "name": "python",
   "nbconvert_exporter": "python",
   "pygments_lexer": "ipython3",
   "version": "3.12.0"
  }
 },
 "nbformat": 4,
 "nbformat_minor": 4
}
